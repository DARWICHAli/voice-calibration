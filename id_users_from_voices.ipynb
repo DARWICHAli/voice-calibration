{
  "cells": [
    {
      "cell_type": "markdown",
      "metadata": {
        "colab_type": "text",
        "id": "view-in-github"
      },
      "source": [
        "<a href=\"https://colab.research.google.com/github/DARWICHAli/voice-calibration/blob/main/id_users_from_voices.ipynb\" target=\"_parent\"><img src=\"https://colab.research.google.com/assets/colab-badge.svg\" alt=\"Open In Colab\"/></a>"
      ]
    },
    {
      "cell_type": "code",
      "execution_count": 1,
      "metadata": {
        "colab": {
          "base_uri": "https://localhost:8080/"
        },
        "id": "6tbHY04UGV1L",
        "outputId": "82b1cc46-de04-4d7c-a5da-4baddc76849a"
      },
      "outputs": [
        {
          "name": "stdout",
          "output_type": "stream",
          "text": [
            "Reading package lists... Done\n",
            "Building dependency tree... Done\n",
            "Reading state information... Done\n",
            "The following additional packages will be installed:\n",
            "  libdvdnav4 libdvdread8 liblua5.2-0 libmujs1 libplacebo192 libsixel1 libva-wayland2 libvulkan1\n",
            "  mesa-vulkan-drivers mpv python3-pycryptodome python3-pyxattr rtmpdump\n",
            "Suggested packages:\n",
            "  libdvdcss2 libcuda1 python3-pyxattr-dbg python-pyxattr-doc libfribidi-bin | bidiv phantomjs\n",
            "The following NEW packages will be installed:\n",
            "  libdvdnav4 libdvdread8 liblua5.2-0 libmujs1 libplacebo192 libsixel1 libva-wayland2 libvulkan1\n",
            "  mesa-vulkan-drivers mpv python3-pycryptodome python3-pyxattr rtmpdump youtube-dl\n",
            "0 upgraded, 14 newly installed, 0 to remove and 29 not upgraded.\n",
            "Need to get 15.8 MB of archives.\n",
            "After this operation, 68.1 MB of additional disk space will be used.\n",
            "Get:1 http://archive.ubuntu.com/ubuntu jammy/universe amd64 libdvdread8 amd64 6.1.2-1 [55.7 kB]\n",
            "Get:2 http://archive.ubuntu.com/ubuntu jammy/universe amd64 libdvdnav4 amd64 6.1.1-1 [39.3 kB]\n",
            "Get:3 http://archive.ubuntu.com/ubuntu jammy/universe amd64 liblua5.2-0 amd64 5.2.4-2 [125 kB]\n",
            "Get:4 http://archive.ubuntu.com/ubuntu jammy/universe amd64 libmujs1 amd64 1.1.3-3 [117 kB]\n",
            "Get:5 http://archive.ubuntu.com/ubuntu jammy/main amd64 libvulkan1 amd64 1.3.204.1-2 [128 kB]\n",
            "Get:6 http://archive.ubuntu.com/ubuntu jammy/universe amd64 libplacebo192 amd64 4.192.1-1 [2,279 kB]\n",
            "Get:7 http://archive.ubuntu.com/ubuntu jammy/universe amd64 libva-wayland2 amd64 2.14.0-1 [9,784 B]\n",
            "Get:8 http://archive.ubuntu.com/ubuntu jammy-updates/main amd64 mesa-vulkan-drivers amd64 23.0.4-0ubuntu1~22.04.1 [9,521 kB]\n",
            "Get:9 http://archive.ubuntu.com/ubuntu jammy/universe amd64 libsixel1 amd64 1.10.3-3 [111 kB]\n",
            "Get:10 http://archive.ubuntu.com/ubuntu jammy/universe amd64 mpv amd64 0.34.1-1ubuntu3 [1,225 kB]\n",
            "Get:11 http://archive.ubuntu.com/ubuntu jammy/main amd64 python3-pycryptodome amd64 3.11.0+dfsg1-3build1 [1,027 kB]\n",
            "Get:12 http://archive.ubuntu.com/ubuntu jammy/main amd64 python3-pyxattr amd64 0.7.2-2ubuntu2 [14.1 kB]\n",
            "Get:13 http://archive.ubuntu.com/ubuntu jammy/universe amd64 rtmpdump amd64 2.4+20151223.gitfa8646d.1-2build4 [45.9 kB]\n",
            "Get:14 http://archive.ubuntu.com/ubuntu jammy/universe amd64 youtube-dl all 2021.12.17-1 [1,080 kB]\n",
            "Fetched 15.8 MB in 3s (5,696 kB/s)\n",
            "Selecting previously unselected package libdvdread8:amd64.\n",
            "(Reading database ... 121658 files and directories currently installed.)\n",
            "Preparing to unpack .../00-libdvdread8_6.1.2-1_amd64.deb ...\n",
            "Unpacking libdvdread8:amd64 (6.1.2-1) ...\n",
            "Selecting previously unselected package libdvdnav4:amd64.\n",
            "Preparing to unpack .../01-libdvdnav4_6.1.1-1_amd64.deb ...\n",
            "Unpacking libdvdnav4:amd64 (6.1.1-1) ...\n",
            "Selecting previously unselected package liblua5.2-0:amd64.\n",
            "Preparing to unpack .../02-liblua5.2-0_5.2.4-2_amd64.deb ...\n",
            "Unpacking liblua5.2-0:amd64 (5.2.4-2) ...\n",
            "Selecting previously unselected package libmujs1:amd64.\n",
            "Preparing to unpack .../03-libmujs1_1.1.3-3_amd64.deb ...\n",
            "Unpacking libmujs1:amd64 (1.1.3-3) ...\n",
            "Selecting previously unselected package libvulkan1:amd64.\n",
            "Preparing to unpack .../04-libvulkan1_1.3.204.1-2_amd64.deb ...\n",
            "Unpacking libvulkan1:amd64 (1.3.204.1-2) ...\n",
            "Selecting previously unselected package libplacebo192:amd64.\n",
            "Preparing to unpack .../05-libplacebo192_4.192.1-1_amd64.deb ...\n",
            "Unpacking libplacebo192:amd64 (4.192.1-1) ...\n",
            "Selecting previously unselected package libva-wayland2:amd64.\n",
            "Preparing to unpack .../06-libva-wayland2_2.14.0-1_amd64.deb ...\n",
            "Unpacking libva-wayland2:amd64 (2.14.0-1) ...\n",
            "Selecting previously unselected package mesa-vulkan-drivers:amd64.\n",
            "Preparing to unpack .../07-mesa-vulkan-drivers_23.0.4-0ubuntu1~22.04.1_amd64.deb ...\n",
            "Unpacking mesa-vulkan-drivers:amd64 (23.0.4-0ubuntu1~22.04.1) ...\n",
            "Selecting previously unselected package libsixel1:amd64.\n",
            "Preparing to unpack .../08-libsixel1_1.10.3-3_amd64.deb ...\n",
            "Unpacking libsixel1:amd64 (1.10.3-3) ...\n",
            "Selecting previously unselected package mpv.\n",
            "Preparing to unpack .../09-mpv_0.34.1-1ubuntu3_amd64.deb ...\n",
            "Unpacking mpv (0.34.1-1ubuntu3) ...\n",
            "Selecting previously unselected package python3-pycryptodome.\n",
            "Preparing to unpack .../10-python3-pycryptodome_3.11.0+dfsg1-3build1_amd64.deb ...\n",
            "Unpacking python3-pycryptodome (3.11.0+dfsg1-3build1) ...\n",
            "Selecting previously unselected package python3-pyxattr:amd64.\n",
            "Preparing to unpack .../11-python3-pyxattr_0.7.2-2ubuntu2_amd64.deb ...\n",
            "Unpacking python3-pyxattr:amd64 (0.7.2-2ubuntu2) ...\n",
            "Selecting previously unselected package rtmpdump.\n",
            "Preparing to unpack .../12-rtmpdump_2.4+20151223.gitfa8646d.1-2build4_amd64.deb ...\n",
            "Unpacking rtmpdump (2.4+20151223.gitfa8646d.1-2build4) ...\n",
            "Selecting previously unselected package youtube-dl.\n",
            "Preparing to unpack .../13-youtube-dl_2021.12.17-1_all.deb ...\n",
            "Unpacking youtube-dl (2021.12.17-1) ...\n",
            "Setting up libmujs1:amd64 (1.1.3-3) ...\n",
            "Setting up youtube-dl (2021.12.17-1) ...\n",
            "Setting up python3-pycryptodome (3.11.0+dfsg1-3build1) ...\n",
            "Setting up libdvdread8:amd64 (6.1.2-1) ...\n",
            "Setting up libsixel1:amd64 (1.10.3-3) ...\n",
            "Setting up libvulkan1:amd64 (1.3.204.1-2) ...\n",
            "Setting up libva-wayland2:amd64 (2.14.0-1) ...\n",
            "Setting up rtmpdump (2.4+20151223.gitfa8646d.1-2build4) ...\n",
            "Setting up liblua5.2-0:amd64 (5.2.4-2) ...\n",
            "Setting up libdvdnav4:amd64 (6.1.1-1) ...\n",
            "Setting up python3-pyxattr:amd64 (0.7.2-2ubuntu2) ...\n",
            "Setting up mesa-vulkan-drivers:amd64 (23.0.4-0ubuntu1~22.04.1) ...\n",
            "Setting up libplacebo192:amd64 (4.192.1-1) ...\n",
            "Setting up mpv (0.34.1-1ubuntu3) ...\n",
            "Processing triggers for libc-bin (2.35-0ubuntu3.4) ...\n",
            "/sbin/ldconfig.real: /usr/local/lib/libtbbmalloc_proxy.so.2 is not a symbolic link\n",
            "\n",
            "/sbin/ldconfig.real: /usr/local/lib/libtbbbind_2_5.so.3 is not a symbolic link\n",
            "\n",
            "/sbin/ldconfig.real: /usr/local/lib/libtbbbind_2_0.so.3 is not a symbolic link\n",
            "\n",
            "/sbin/ldconfig.real: /usr/local/lib/libtbbmalloc.so.2 is not a symbolic link\n",
            "\n",
            "/sbin/ldconfig.real: /usr/local/lib/libtbb.so.12 is not a symbolic link\n",
            "\n",
            "/sbin/ldconfig.real: /usr/local/lib/libtbbbind.so.3 is not a symbolic link\n",
            "\n",
            "Processing triggers for man-db (2.10.2-1) ...\n",
            "Processing triggers for hicolor-icon-theme (0.17-2) ...\n",
            "Reading package lists... Done\n",
            "Building dependency tree... Done\n",
            "Reading state information... Done\n",
            "ffmpeg is already the newest version (7:4.4.2-0ubuntu0.22.04.1).\n",
            "0 upgraded, 0 newly installed, 0 to remove and 29 not upgraded.\n",
            "Collecting yt-dlp\n",
            "  Downloading yt_dlp-2023.12.30-py2.py3-none-any.whl (3.0 MB)\n",
            "\u001b[2K     \u001b[90m━━━━━━━━━━━━━━━━━━━━━━━━━━━━━━━━━━━━━━━━\u001b[0m \u001b[32m3.0/3.0 MB\u001b[0m \u001b[31m11.2 MB/s\u001b[0m eta \u001b[36m0:00:00\u001b[0m\n",
            "\u001b[?25hCollecting mutagen (from yt-dlp)\n",
            "  Downloading mutagen-1.47.0-py3-none-any.whl (194 kB)\n",
            "\u001b[2K     \u001b[90m━━━━━━━━━━━━━━━━━━━━━━━━━━━━━━━━━━━━━━━━\u001b[0m \u001b[32m194.4/194.4 kB\u001b[0m \u001b[31m14.2 MB/s\u001b[0m eta \u001b[36m0:00:00\u001b[0m\n",
            "\u001b[?25hRequirement already satisfied: pycryptodomex in /usr/lib/python3/dist-packages (from yt-dlp) (3.11.0)\n",
            "Requirement already satisfied: certifi in /usr/local/lib/python3.10/dist-packages (from yt-dlp) (2023.11.17)\n",
            "Requirement already satisfied: requests<3,>=2.31.0 in /usr/local/lib/python3.10/dist-packages (from yt-dlp) (2.31.0)\n",
            "Requirement already satisfied: urllib3<3,>=1.26.17 in /usr/local/lib/python3.10/dist-packages (from yt-dlp) (2.0.7)\n",
            "Collecting websockets>=12.0 (from yt-dlp)\n",
            "  Downloading websockets-12.0-cp310-cp310-manylinux_2_5_x86_64.manylinux1_x86_64.manylinux_2_17_x86_64.manylinux2014_x86_64.whl (130 kB)\n",
            "\u001b[2K     \u001b[90m━━━━━━━━━━━━━━━━━━━━━━━━━━━━━━━━━━━━━━━━\u001b[0m \u001b[32m130.2/130.2 kB\u001b[0m \u001b[31m11.6 MB/s\u001b[0m eta \u001b[36m0:00:00\u001b[0m\n",
            "\u001b[?25hCollecting brotli (from yt-dlp)\n",
            "  Downloading Brotli-1.1.0-cp310-cp310-manylinux_2_5_x86_64.manylinux1_x86_64.manylinux_2_12_x86_64.manylinux2010_x86_64.whl (3.0 MB)\n",
            "\u001b[2K     \u001b[90m━━━━━━━━━━━━━━━━━━━━━━━━━━━━━━━━━━━━━━━━\u001b[0m \u001b[32m3.0/3.0 MB\u001b[0m \u001b[31m48.0 MB/s\u001b[0m eta \u001b[36m0:00:00\u001b[0m\n",
            "\u001b[?25hRequirement already satisfied: charset-normalizer<4,>=2 in /usr/local/lib/python3.10/dist-packages (from requests<3,>=2.31.0->yt-dlp) (3.3.2)\n",
            "Requirement already satisfied: idna<4,>=2.5 in /usr/local/lib/python3.10/dist-packages (from requests<3,>=2.31.0->yt-dlp) (3.6)\n",
            "Installing collected packages: brotli, websockets, mutagen, yt-dlp\n",
            "Successfully installed brotli-1.1.0 mutagen-1.47.0 websockets-12.0 yt-dlp-2023.12.30\n"
          ]
        }
      ],
      "source": [
        "!apt-get install youtube-dl\n",
        "!apt-get install ffmpeg\n",
        "!pip install -U yt-dlp"
      ]
    },
    {
      "cell_type": "code",
      "execution_count": 5,
      "metadata": {
        "colab": {
          "base_uri": "https://localhost:8080/"
        },
        "id": "3H8Uerz0G5s5",
        "outputId": "33dc8315-f221-444c-e98d-f787161a6235"
      },
      "outputs": [
        {
          "name": "stdout",
          "output_type": "stream",
          "text": [
            "[youtube:tab] Extracting URL: https://www.youtube.com/4c530772-44f6-4870-a40d-51ebaead7b8a\n",
            "[youtube:tab] 4c530772-44f6-4870-a40d-51ebaead7b8a: Downloading webpage\n",
            "\u001b[0;33mWARNING:\u001b[0m [youtube:tab] HTTP Error 404: Not Found. Retrying (1/3)...\n",
            "[youtube:tab] 4c530772-44f6-4870-a40d-51ebaead7b8a: Downloading webpage\n",
            "\u001b[0;33mWARNING:\u001b[0m [youtube:tab] HTTP Error 404: Not Found. Retrying (2/3)...\n",
            "[youtube:tab] 4c530772-44f6-4870-a40d-51ebaead7b8a: Downloading webpage\n",
            "\u001b[0;33mWARNING:\u001b[0m [youtube:tab] HTTP Error 404: Not Found. Retrying (3/3)...\n",
            "[youtube:tab] 4c530772-44f6-4870-a40d-51ebaead7b8a: Downloading webpage\n",
            "\u001b[0;33mWARNING:\u001b[0m [youtube:tab] Unable to download webpage: HTTP Error 404: Not Found (caused by <HTTPError 404: Not Found>); please report this issue on  https://github.com/yt-dlp/yt-dlp/issues?q= , filling out the appropriate issue template. Confirm you are on the latest version using  yt-dlp -U. Giving up after 3 retries\n",
            "[youtube:tab] 4c530772-44f6-4870-a40d-51ebaead7b8a: Downloading API parameters API JSON\n",
            "\u001b[0;33mWARNING:\u001b[0m [youtube:tab] YouTube said: ERROR - Requested entity was not found.\n",
            "\u001b[0;33mWARNING:\u001b[0m [youtube:tab] HTTP Error 404: Not Found. Retrying (1/3)...\n",
            "[youtube:tab] 4c530772-44f6-4870-a40d-51ebaead7b8a: Downloading API parameters API JSON\n",
            "\u001b[0;33mWARNING:\u001b[0m [youtube:tab] YouTube said: ERROR - Requested entity was not found.\n",
            "\u001b[0;33mWARNING:\u001b[0m [youtube:tab] HTTP Error 404: Not Found. Retrying (2/3)...\n",
            "[youtube:tab] 4c530772-44f6-4870-a40d-51ebaead7b8a: Downloading API parameters API JSON\n",
            "\u001b[0;33mWARNING:\u001b[0m [youtube:tab] YouTube said: ERROR - Requested entity was not found.\n",
            "\u001b[0;33mWARNING:\u001b[0m [youtube:tab] HTTP Error 404: Not Found. Retrying (3/3)...\n",
            "[youtube:tab] 4c530772-44f6-4870-a40d-51ebaead7b8a: Downloading API parameters API JSON\n",
            "\u001b[0;33mWARNING:\u001b[0m [youtube:tab] YouTube said: ERROR - Requested entity was not found.\n",
            "\u001b[0;31mERROR:\u001b[0m [youtube:tab] 4c530772-44f6-4870-a40d-51ebaead7b8a: Unable to download API page: HTTP Error 404: Not Found (caused by <HTTPError 404: Not Found>); please report this issue on  https://github.com/yt-dlp/yt-dlp/issues?q= , filling out the appropriate issue template. Confirm you are on the latest version using  yt-dlp -U\n",
            "ffmpeg version 4.4.2-0ubuntu0.22.04.1 Copyright (c) 2000-2021 the FFmpeg developers\n",
            "  built with gcc 11 (Ubuntu 11.2.0-19ubuntu1)\n",
            "  configuration: --prefix=/usr --extra-version=0ubuntu0.22.04.1 --toolchain=hardened --libdir=/usr/lib/x86_64-linux-gnu --incdir=/usr/include/x86_64-linux-gnu --arch=amd64 --enable-gpl --disable-stripping --enable-gnutls --enable-ladspa --enable-libaom --enable-libass --enable-libbluray --enable-libbs2b --enable-libcaca --enable-libcdio --enable-libcodec2 --enable-libdav1d --enable-libflite --enable-libfontconfig --enable-libfreetype --enable-libfribidi --enable-libgme --enable-libgsm --enable-libjack --enable-libmp3lame --enable-libmysofa --enable-libopenjpeg --enable-libopenmpt --enable-libopus --enable-libpulse --enable-librabbitmq --enable-librubberband --enable-libshine --enable-libsnappy --enable-libsoxr --enable-libspeex --enable-libsrt --enable-libssh --enable-libtheora --enable-libtwolame --enable-libvidstab --enable-libvorbis --enable-libvpx --enable-libwebp --enable-libx265 --enable-libxml2 --enable-libxvid --enable-libzimg --enable-libzmq --enable-libzvbi --enable-lv2 --enable-omx --enable-openal --enable-opencl --enable-opengl --enable-sdl2 --enable-pocketsphinx --enable-librsvg --enable-libmfx --enable-libdc1394 --enable-libdrm --enable-libiec61883 --enable-chromaprint --enable-frei0r --enable-libx264 --enable-shared\n",
            "  libavutil      56. 70.100 / 56. 70.100\n",
            "  libavcodec     58.134.100 / 58.134.100\n",
            "  libavformat    58. 76.100 / 58. 76.100\n",
            "  libavdevice    58. 13.100 / 58. 13.100\n",
            "  libavfilter     7.110.100 /  7.110.100\n",
            "  libswscale      5.  9.100 /  5.  9.100\n",
            "  libswresample   3.  9.100 /  3.  9.100\n",
            "  libpostproc    55.  9.100 / 55.  9.100\n",
            "Input #0, mp3, from '/content/Chandler's Undies _ Friends.mp3':\n",
            "  Metadata:\n",
            "    major_brand     : dash\n",
            "    minor_version   : 0\n",
            "    compatible_brands: iso6mp41\n",
            "    encoder         : Lavf56.25.101\n",
            "  Duration: 00:01:19.44, start: 0.025057, bitrate: 205 kb/s\n",
            "  Stream #0:0: Audio: mp3, 44100 Hz, stereo, fltp, 205 kb/s\n",
            "    Metadata:\n",
            "      encoder         : Lavc56.26\n",
            "Stream mapping:\n",
            "  Stream #0:0 -> #0:0 (mp3 (mp3float) -> pcm_s16le (native))\n",
            "Press [q] to stop, [?] for help\n",
            "Output #0, wav, to 'video.wav':\n",
            "  Metadata:\n",
            "    major_brand     : dash\n",
            "    minor_version   : 0\n",
            "    compatible_brands: iso6mp41\n",
            "    ISFT            : Lavf58.76.100\n",
            "  Stream #0:0: Audio: pcm_s16le ([1][0][0][0] / 0x0001), 44100 Hz, stereo, s16, 1411 kb/s\n",
            "    Metadata:\n",
            "      encoder         : Lavc58.134.100 pcm_s16le\n",
            "size=   13680kB time=00:01:19.38 bitrate=1411.7kbits/s speed= 275x    \n",
            "video:0kB audio:13680kB subtitle:0kB other streams:0kB global headers:0kB muxing overhead: 0.000557%\n"
          ]
        }
      ],
      "source": [
        "\n",
        "# Convert MP3 to WAV using ffmpeg\n",
        "!ffmpeg -i \"/content/Chandler's Undies _ Friends.mp3\" -acodec pcm_s16le -ar 44100 -ac 2 video.wav\n"
      ]
    },
    {
      "cell_type": "code",
      "execution_count": 6,
      "metadata": {
        "colab": {
          "base_uri": "https://localhost:8080/",
          "height": 442
        },
        "id": "zxph8uwPE4uz",
        "outputId": "1fc7a400-b2d4-4561-a503-219c85a311d7"
      },
      "outputs": [
        {
          "name": "stderr",
          "output_type": "stream",
          "text": [
            "/usr/local/lib/python3.10/dist-packages/sklearn/decomposition/_fastica.py:542: FutureWarning: Starting in v1.3, whiten='unit-variance' will be used by default.\n",
            "  warnings.warn(\n"
          ]
        },
        {
          "ename": "ValueError",
          "evalue": "Found array with 1 sample(s) (shape=(1, 3502127)) while a minimum of 2 is required by FastICA.",
          "output_type": "error",
          "traceback": [
            "\u001b[0;31m---------------------------------------------------------------------------\u001b[0m",
            "\u001b[0;31mValueError\u001b[0m                                Traceback (most recent call last)",
            "\u001b[0;32m<ipython-input-6-b3df3744305a>\u001b[0m in \u001b[0;36m<cell line: 14>\u001b[0;34m()\u001b[0m\n\u001b[1;32m     12\u001b[0m \u001b[0mn_components\u001b[0m \u001b[0;34m=\u001b[0m \u001b[0;36m2\u001b[0m  \u001b[0;31m# Adjust this based on the number of sources you want to separate\u001b[0m\u001b[0;34m\u001b[0m\u001b[0;34m\u001b[0m\u001b[0m\n\u001b[1;32m     13\u001b[0m \u001b[0mica\u001b[0m \u001b[0;34m=\u001b[0m \u001b[0mFastICA\u001b[0m\u001b[0;34m(\u001b[0m\u001b[0mn_components\u001b[0m\u001b[0;34m=\u001b[0m\u001b[0mn_components\u001b[0m\u001b[0;34m)\u001b[0m\u001b[0;34m\u001b[0m\u001b[0;34m\u001b[0m\u001b[0m\n\u001b[0;32m---> 14\u001b[0;31m \u001b[0mS_\u001b[0m \u001b[0;34m=\u001b[0m \u001b[0mica\u001b[0m\u001b[0;34m.\u001b[0m\u001b[0mfit_transform\u001b[0m\u001b[0;34m(\u001b[0m\u001b[0my\u001b[0m\u001b[0;34m.\u001b[0m\u001b[0mreshape\u001b[0m\u001b[0;34m(\u001b[0m\u001b[0;36m1\u001b[0m\u001b[0;34m,\u001b[0m \u001b[0;34m-\u001b[0m\u001b[0;36m1\u001b[0m\u001b[0;34m)\u001b[0m\u001b[0;34m)\u001b[0m\u001b[0;34m\u001b[0m\u001b[0;34m\u001b[0m\u001b[0m\n\u001b[0m\u001b[1;32m     15\u001b[0m \u001b[0;34m\u001b[0m\u001b[0m\n\u001b[1;32m     16\u001b[0m \u001b[0;31m# Inverse transform to get the separated sources\u001b[0m\u001b[0;34m\u001b[0m\u001b[0;34m\u001b[0m\u001b[0m\n",
            "\u001b[0;32m/usr/local/lib/python3.10/dist-packages/sklearn/utils/_set_output.py\u001b[0m in \u001b[0;36mwrapped\u001b[0;34m(self, X, *args, **kwargs)\u001b[0m\n\u001b[1;32m    138\u001b[0m     \u001b[0;34m@\u001b[0m\u001b[0mwraps\u001b[0m\u001b[0;34m(\u001b[0m\u001b[0mf\u001b[0m\u001b[0;34m)\u001b[0m\u001b[0;34m\u001b[0m\u001b[0;34m\u001b[0m\u001b[0m\n\u001b[1;32m    139\u001b[0m     \u001b[0;32mdef\u001b[0m \u001b[0mwrapped\u001b[0m\u001b[0;34m(\u001b[0m\u001b[0mself\u001b[0m\u001b[0;34m,\u001b[0m \u001b[0mX\u001b[0m\u001b[0;34m,\u001b[0m \u001b[0;34m*\u001b[0m\u001b[0margs\u001b[0m\u001b[0;34m,\u001b[0m \u001b[0;34m**\u001b[0m\u001b[0mkwargs\u001b[0m\u001b[0;34m)\u001b[0m\u001b[0;34m:\u001b[0m\u001b[0;34m\u001b[0m\u001b[0;34m\u001b[0m\u001b[0m\n\u001b[0;32m--> 140\u001b[0;31m         \u001b[0mdata_to_wrap\u001b[0m \u001b[0;34m=\u001b[0m \u001b[0mf\u001b[0m\u001b[0;34m(\u001b[0m\u001b[0mself\u001b[0m\u001b[0;34m,\u001b[0m \u001b[0mX\u001b[0m\u001b[0;34m,\u001b[0m \u001b[0;34m*\u001b[0m\u001b[0margs\u001b[0m\u001b[0;34m,\u001b[0m \u001b[0;34m**\u001b[0m\u001b[0mkwargs\u001b[0m\u001b[0;34m)\u001b[0m\u001b[0;34m\u001b[0m\u001b[0;34m\u001b[0m\u001b[0m\n\u001b[0m\u001b[1;32m    141\u001b[0m         \u001b[0;32mif\u001b[0m \u001b[0misinstance\u001b[0m\u001b[0;34m(\u001b[0m\u001b[0mdata_to_wrap\u001b[0m\u001b[0;34m,\u001b[0m \u001b[0mtuple\u001b[0m\u001b[0;34m)\u001b[0m\u001b[0;34m:\u001b[0m\u001b[0;34m\u001b[0m\u001b[0;34m\u001b[0m\u001b[0m\n\u001b[1;32m    142\u001b[0m             \u001b[0;31m# only wrap the first output for cross decomposition\u001b[0m\u001b[0;34m\u001b[0m\u001b[0;34m\u001b[0m\u001b[0m\n",
            "\u001b[0;32m/usr/local/lib/python3.10/dist-packages/sklearn/decomposition/_fastica.py\u001b[0m in \u001b[0;36mfit_transform\u001b[0;34m(self, X, y)\u001b[0m\n\u001b[1;32m    706\u001b[0m         \u001b[0mself\u001b[0m\u001b[0;34m.\u001b[0m\u001b[0m_validate_params\u001b[0m\u001b[0;34m(\u001b[0m\u001b[0;34m)\u001b[0m\u001b[0;34m\u001b[0m\u001b[0;34m\u001b[0m\u001b[0m\n\u001b[1;32m    707\u001b[0m \u001b[0;34m\u001b[0m\u001b[0m\n\u001b[0;32m--> 708\u001b[0;31m         \u001b[0;32mreturn\u001b[0m \u001b[0mself\u001b[0m\u001b[0;34m.\u001b[0m\u001b[0m_fit_transform\u001b[0m\u001b[0;34m(\u001b[0m\u001b[0mX\u001b[0m\u001b[0;34m,\u001b[0m \u001b[0mcompute_sources\u001b[0m\u001b[0;34m=\u001b[0m\u001b[0;32mTrue\u001b[0m\u001b[0;34m)\u001b[0m\u001b[0;34m\u001b[0m\u001b[0;34m\u001b[0m\u001b[0m\n\u001b[0m\u001b[1;32m    709\u001b[0m \u001b[0;34m\u001b[0m\u001b[0m\n\u001b[1;32m    710\u001b[0m     \u001b[0;32mdef\u001b[0m \u001b[0mfit\u001b[0m\u001b[0;34m(\u001b[0m\u001b[0mself\u001b[0m\u001b[0;34m,\u001b[0m \u001b[0mX\u001b[0m\u001b[0;34m,\u001b[0m \u001b[0my\u001b[0m\u001b[0;34m=\u001b[0m\u001b[0;32mNone\u001b[0m\u001b[0;34m)\u001b[0m\u001b[0;34m:\u001b[0m\u001b[0;34m\u001b[0m\u001b[0;34m\u001b[0m\u001b[0m\n",
            "\u001b[0;32m/usr/local/lib/python3.10/dist-packages/sklearn/decomposition/_fastica.py\u001b[0m in \u001b[0;36m_fit_transform\u001b[0;34m(self, X, compute_sources)\u001b[0m\n\u001b[1;32m    556\u001b[0m             \u001b[0mself\u001b[0m\u001b[0;34m.\u001b[0m\u001b[0m_whiten\u001b[0m \u001b[0;34m=\u001b[0m \u001b[0;34m\"arbitrary-variance\"\u001b[0m\u001b[0;34m\u001b[0m\u001b[0;34m\u001b[0m\u001b[0m\n\u001b[1;32m    557\u001b[0m \u001b[0;34m\u001b[0m\u001b[0m\n\u001b[0;32m--> 558\u001b[0;31m         XT = self._validate_data(\n\u001b[0m\u001b[1;32m    559\u001b[0m             \u001b[0mX\u001b[0m\u001b[0;34m,\u001b[0m \u001b[0mcopy\u001b[0m\u001b[0;34m=\u001b[0m\u001b[0mself\u001b[0m\u001b[0;34m.\u001b[0m\u001b[0m_whiten\u001b[0m\u001b[0;34m,\u001b[0m \u001b[0mdtype\u001b[0m\u001b[0;34m=\u001b[0m\u001b[0;34m[\u001b[0m\u001b[0mnp\u001b[0m\u001b[0;34m.\u001b[0m\u001b[0mfloat64\u001b[0m\u001b[0;34m,\u001b[0m \u001b[0mnp\u001b[0m\u001b[0;34m.\u001b[0m\u001b[0mfloat32\u001b[0m\u001b[0;34m]\u001b[0m\u001b[0;34m,\u001b[0m \u001b[0mensure_min_samples\u001b[0m\u001b[0;34m=\u001b[0m\u001b[0;36m2\u001b[0m\u001b[0;34m\u001b[0m\u001b[0;34m\u001b[0m\u001b[0m\n\u001b[1;32m    560\u001b[0m         ).T\n",
            "\u001b[0;32m/usr/local/lib/python3.10/dist-packages/sklearn/base.py\u001b[0m in \u001b[0;36m_validate_data\u001b[0;34m(self, X, y, reset, validate_separately, **check_params)\u001b[0m\n\u001b[1;32m    563\u001b[0m             \u001b[0;32mraise\u001b[0m \u001b[0mValueError\u001b[0m\u001b[0;34m(\u001b[0m\u001b[0;34m\"Validation should be done on X, y or both.\"\u001b[0m\u001b[0;34m)\u001b[0m\u001b[0;34m\u001b[0m\u001b[0;34m\u001b[0m\u001b[0m\n\u001b[1;32m    564\u001b[0m         \u001b[0;32melif\u001b[0m \u001b[0;32mnot\u001b[0m \u001b[0mno_val_X\u001b[0m \u001b[0;32mand\u001b[0m \u001b[0mno_val_y\u001b[0m\u001b[0;34m:\u001b[0m\u001b[0;34m\u001b[0m\u001b[0;34m\u001b[0m\u001b[0m\n\u001b[0;32m--> 565\u001b[0;31m             \u001b[0mX\u001b[0m \u001b[0;34m=\u001b[0m \u001b[0mcheck_array\u001b[0m\u001b[0;34m(\u001b[0m\u001b[0mX\u001b[0m\u001b[0;34m,\u001b[0m \u001b[0minput_name\u001b[0m\u001b[0;34m=\u001b[0m\u001b[0;34m\"X\"\u001b[0m\u001b[0;34m,\u001b[0m \u001b[0;34m**\u001b[0m\u001b[0mcheck_params\u001b[0m\u001b[0;34m)\u001b[0m\u001b[0;34m\u001b[0m\u001b[0;34m\u001b[0m\u001b[0m\n\u001b[0m\u001b[1;32m    566\u001b[0m             \u001b[0mout\u001b[0m \u001b[0;34m=\u001b[0m \u001b[0mX\u001b[0m\u001b[0;34m\u001b[0m\u001b[0;34m\u001b[0m\u001b[0m\n\u001b[1;32m    567\u001b[0m         \u001b[0;32melif\u001b[0m \u001b[0mno_val_X\u001b[0m \u001b[0;32mand\u001b[0m \u001b[0;32mnot\u001b[0m \u001b[0mno_val_y\u001b[0m\u001b[0;34m:\u001b[0m\u001b[0;34m\u001b[0m\u001b[0;34m\u001b[0m\u001b[0m\n",
            "\u001b[0;32m/usr/local/lib/python3.10/dist-packages/sklearn/utils/validation.py\u001b[0m in \u001b[0;36mcheck_array\u001b[0;34m(array, accept_sparse, accept_large_sparse, dtype, order, copy, force_all_finite, ensure_2d, allow_nd, ensure_min_samples, ensure_min_features, estimator, input_name)\u001b[0m\n\u001b[1;32m    929\u001b[0m         \u001b[0mn_samples\u001b[0m \u001b[0;34m=\u001b[0m \u001b[0m_num_samples\u001b[0m\u001b[0;34m(\u001b[0m\u001b[0marray\u001b[0m\u001b[0;34m)\u001b[0m\u001b[0;34m\u001b[0m\u001b[0;34m\u001b[0m\u001b[0m\n\u001b[1;32m    930\u001b[0m         \u001b[0;32mif\u001b[0m \u001b[0mn_samples\u001b[0m \u001b[0;34m<\u001b[0m \u001b[0mensure_min_samples\u001b[0m\u001b[0;34m:\u001b[0m\u001b[0;34m\u001b[0m\u001b[0;34m\u001b[0m\u001b[0m\n\u001b[0;32m--> 931\u001b[0;31m             raise ValueError(\n\u001b[0m\u001b[1;32m    932\u001b[0m                 \u001b[0;34m\"Found array with %d sample(s) (shape=%s) while a\"\u001b[0m\u001b[0;34m\u001b[0m\u001b[0;34m\u001b[0m\u001b[0m\n\u001b[1;32m    933\u001b[0m                 \u001b[0;34m\" minimum of %d is required%s.\"\u001b[0m\u001b[0;34m\u001b[0m\u001b[0;34m\u001b[0m\u001b[0m\n",
            "\u001b[0;31mValueError\u001b[0m: Found array with 1 sample(s) (shape=(1, 3502127)) while a minimum of 2 is required by FastICA."
          ]
        }
      ],
      "source": [
        "import librosa\n",
        "import librosa.display\n",
        "import numpy as np\n",
        "import matplotlib.pyplot as plt\n",
        "from sklearn.decomposition import FastICA\n",
        "\n",
        "# Load the mixed audio signal\n",
        "audio_file = \"/content/video.wav\"\n",
        "y, sr = librosa.load(audio_file, sr=None)\n",
        "\n",
        "# Apply Fast Independent Component Analysis (ICA)\n",
        "n_components = 2  # Adjust this based on the number of sources you want to separate\n",
        "ica = FastICA(n_components=n_components)\n",
        "S_ = ica.fit_transform(y.reshape(1, -1))\n",
        "\n",
        "# Inverse transform to get the separated sources\n",
        "sources = ica.inverse_transform(S_)\n",
        "\n",
        "# Plot the original and separated sources\n",
        "plt.figure(figsize=(12, 8))\n",
        "\n",
        "plt.subplot(3, 1, 1)\n",
        "librosa.display.waveshow(y, sr=sr)\n",
        "plt.title('Mixed Audio')\n",
        "\n",
        "for i in range(n_components):\n",
        "    plt.subplot(3, 1, i + 2)\n",
        "    librosa.display.waveshow(sources.T[i], sr=sr)\n",
        "    plt.title(f'Separated Source {i + 1}')\n",
        "\n",
        "plt.tight_layout()\n",
        "plt.show()\n"
      ]
    },
    {
      "cell_type": "code",
      "execution_count": null,
      "metadata": {
        "id": "6WT1poQYD5_L"
      },
      "outputs": [],
      "source": [
        "# Example using pydub (install with: pip install pydub)\n",
        "from pydub import AudioSegment\n",
        "from pydub.playback import play\n",
        "\n",
        "audio_file = \"path/to/your/audio.wav\"\n",
        "audio = AudioSegment.from_wav(audio_file)\n",
        "\n",
        "# Apply VAD to detect speech segments\n",
        "speech_segments = []\n",
        "for i, chunk in enumerate(audio[::1000]):  # Process audio in 1-second chunks\n",
        "    if chunk.dBFS > -40:  # Adjust threshold as needed\n",
        "        speech_segments.append((i * 1000, (i + 1) * 1000))  # Start and end times of speech\n",
        "\n",
        "# Print detected speech segments\n",
        "print(\"Detected Speech Segments:\", speech_segments)\n"
      ]
    },
    {
      "cell_type": "code",
      "execution_count": null,
      "metadata": {
        "id": "xca26fn8D_5W"
      },
      "outputs": [],
      "source": [
        "# Example using pyAudioAnalysis (install with: pip install pyAudioAnalysis)\n",
        "from pyAudioAnalysis import audioSegmentation\n",
        "\n",
        "# Load the audio\n",
        "features, classes, _ = audioSegmentation.mtFileClassification(audio_file, \"data/models/svmSM\", \"svm\", True)\n",
        "\n",
        "# Visualize diarization\n",
        "audioSegmentation.plotSegmentation(classes, audio_file, \"time\", \"speaker\")\n"
      ]
    }
  ],
  "metadata": {
    "colab": {
      "authorship_tag": "ABX9TyMidivUqBYUSsnu0TJShs1z",
      "include_colab_link": true,
      "provenance": []
    },
    "kernelspec": {
      "display_name": "Python 3",
      "name": "python3"
    },
    "language_info": {
      "name": "python",
      "version": "3.10.12"
    }
  },
  "nbformat": 4,
  "nbformat_minor": 0
}
